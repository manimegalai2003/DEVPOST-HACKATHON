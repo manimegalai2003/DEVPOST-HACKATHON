{
  "nbformat": 4,
  "nbformat_minor": 0,
  "metadata": {
    "colab": {
      "provenance": []
    },
    "kernelspec": {
      "name": "python3",
      "display_name": "Python 3"
    },
    "language_info": {
      "name": "python"
    }
  },
  "cells": [
    {
      "cell_type": "code",
      "source": [
        "# Install necessary libraries\n",
        "!pip install nltk requests"
      ],
      "metadata": {
        "colab": {
          "base_uri": "https://localhost:8080/"
        },
        "id": "ugE-u_Ykj77c",
        "outputId": "0a662273-fe57-440c-970a-f4a20c92f265"
      },
      "execution_count": 31,
      "outputs": [
        {
          "output_type": "stream",
          "name": "stdout",
          "text": [
            "Requirement already satisfied: nltk in /usr/local/lib/python3.10/dist-packages (3.8.1)\n",
            "Requirement already satisfied: requests in /usr/local/lib/python3.10/dist-packages (2.32.3)\n",
            "Requirement already satisfied: click in /usr/local/lib/python3.10/dist-packages (from nltk) (8.1.7)\n",
            "Requirement already satisfied: joblib in /usr/local/lib/python3.10/dist-packages (from nltk) (1.4.2)\n",
            "Requirement already satisfied: regex>=2021.8.3 in /usr/local/lib/python3.10/dist-packages (from nltk) (2024.5.15)\n",
            "Requirement already satisfied: tqdm in /usr/local/lib/python3.10/dist-packages (from nltk) (4.66.5)\n",
            "Requirement already satisfied: charset-normalizer<4,>=2 in /usr/local/lib/python3.10/dist-packages (from requests) (3.3.2)\n",
            "Requirement already satisfied: idna<4,>=2.5 in /usr/local/lib/python3.10/dist-packages (from requests) (3.8)\n",
            "Requirement already satisfied: urllib3<3,>=1.21.1 in /usr/local/lib/python3.10/dist-packages (from requests) (2.0.7)\n",
            "Requirement already satisfied: certifi>=2017.4.17 in /usr/local/lib/python3.10/dist-packages (from requests) (2024.8.30)\n"
          ]
        }
      ]
    },
    {
      "cell_type": "code",
      "source": [
        "# Import modules\n",
        "import nltk\n",
        "from nltk.sentiment import SentimentIntensityAnalyzer\n",
        "import requests\n",
        "from IPython.display import display, HTML"
      ],
      "metadata": {
        "id": "bxwbGQkokAhg"
      },
      "execution_count": 32,
      "outputs": []
    },
    {
      "cell_type": "code",
      "source": [
        "# Download NLTK resources\n",
        "nltk.download('vader_lexicon')"
      ],
      "metadata": {
        "colab": {
          "base_uri": "https://localhost:8080/"
        },
        "id": "o9GI9wvWkD22",
        "outputId": "3df18d35-4362-465b-977b-c812bf6578ae"
      },
      "execution_count": 33,
      "outputs": [
        {
          "output_type": "stream",
          "name": "stderr",
          "text": [
            "[nltk_data] Downloading package vader_lexicon to /root/nltk_data...\n",
            "[nltk_data]   Package vader_lexicon is already up-to-date!\n"
          ]
        },
        {
          "output_type": "execute_result",
          "data": {
            "text/plain": [
              "True"
            ]
          },
          "metadata": {},
          "execution_count": 33
        }
      ]
    },
    {
      "cell_type": "code",
      "source": [
        "\n",
        "def detect_emotion(user_input):\n",
        "    sia = SentimentIntensityAnalyzer()\n",
        "    sentiment = sia.polarity_scores(user_input)\n",
        "    sentiment_score = sentiment['compound']\n",
        "\n",
        "    if sentiment_score >= 0.05:\n",
        "        return 'positive', sentiment_score\n",
        "    elif sentiment_score <= -0.05:\n",
        "        return 'negative', sentiment_score\n",
        "    else:\n",
        "        return 'neutral', sentiment_score"
      ],
      "metadata": {
        "id": "r9RHDS8zkJXp"
      },
      "execution_count": 34,
      "outputs": []
    },
    {
      "cell_type": "code",
      "source": [
        "def get_movies_by_emotion(emotion, api_key):\n",
        "    genre_map = {\n",
        "        'positive': 35,  # Comedy\n",
        "        'negative': 18,  # Drama\n",
        "        'neutral': 28    # Action\n",
        "    }\n",
        "\n",
        "    genre_id = genre_map.get(emotion, 28)  # Default to Action if emotion is unknown\n",
        "    url = f\"https://api.themoviedb.org/3/discover/movie?api_key={api_key}&with_genres={genre_id}&language=en-US&page=1\"\n",
        "\n",
        "    try:\n",
        "        response = requests.get(url)\n",
        "        response.raise_for_status()  # Raise an exception for HTTP errors\n",
        "        movies = response.json().get('results', [])\n",
        "        if not movies:\n",
        "            return [\"No movies found for this emotion.\"]\n",
        "\n",
        "        movie_details = []\n",
        "        for movie in movies:\n",
        "            title = movie['title']\n",
        "            overview = movie.get('overview', 'No description available.')\n",
        "            movie_details.append(f\"<b>{title}</b>: {overview}\")\n",
        "        return movie_details\n",
        "    except requests.exceptions.RequestException as e:\n",
        "        print(f\"Error fetching data from TMDB API: {e}\")\n",
        "        return [\"Error fetching movie data. Please try again later.\"]"
      ],
      "metadata": {
        "id": "bnoz0vbNkNzK"
      },
      "execution_count": 35,
      "outputs": []
    },
    {
      "cell_type": "code",
      "source": [
        "def format_output(emotion, sentiment_score, movies):\n",
        "    color = {\n",
        "        'positive': 'green',\n",
        "        'negative': 'red',\n",
        "        'neutral': 'blue'\n",
        "    }.get(emotion, 'black')\n",
        "\n",
        "    message = {\n",
        "        'positive': \"😊 You seem happy! How about enjoying some comedy?\",\n",
        "        'negative': \"😢 It looks like you're feeling down. Maybe a drama might help you feel better.\",\n",
        "        'neutral': \"😐 Feeling neutral? An action-packed movie could be just what you need.\"\n",
        "    }.get(emotion, \"Here's a movie recommendation for you:\")\n",
        "\n",
        "    formatted_movies = \"<br>\".join(movies)\n",
        "\n",
        "    html_content = f\"\"\"\n",
        "    <div style=\"font-family: Arial, sans-serif; color: {color};\">\n",
        "        <h2>{message}</h2>\n",
        "        <p><b>Detected Emotion:</b> {emotion.capitalize()} (Sentiment Score: {sentiment_score:.2f})</p>\n",
        "        <h3>Recommended Movies:</h3>\n",
        "        <div>{formatted_movies}</div>\n",
        "    </div>\n",
        "    \"\"\"\n",
        "    display(HTML(html_content))"
      ],
      "metadata": {
        "id": "SOd6OfZVkQsj"
      },
      "execution_count": 36,
      "outputs": []
    },
    {
      "cell_type": "code",
      "source": [
        "def main():\n",
        "    # Replace with your TMDB API key\n",
        "    API_KEY = '93bc7635258e9ae1252debd5b671e1eb'\n",
        "\n",
        "    # Get user input\n",
        "    user_input = input(\"How are you feeling today? \")\n",
        "\n",
        "    # Check for empty input\n",
        "    if not user_input.strip():\n",
        "        print(\"You didn't enter anything. Please provide a valid input.\")\n",
        "        return\n",
        "\n",
        "    # Detect emotion and sentiment score\n",
        "    emotion, sentiment_score = detect_emotion(user_input)\n",
        "\n",
        "    # Get movie recommendations\n",
        "    movies = get_movies_by_emotion(emotion, API_KEY)\n",
        "\n",
        "    # Format and display output\n",
        "    format_output(emotion, sentiment_score, movies)\n",
        "\n",
        "if __name__ == \"__main__\":\n",
        "    main()"
      ],
      "metadata": {
        "colab": {
          "base_uri": "https://localhost:8080/",
          "height": 593
        },
        "id": "dGTucheokUmn",
        "outputId": "d89d178c-dfa2-4789-dbec-4e92fc9fe8dd"
      },
      "execution_count": 38,
      "outputs": [
        {
          "name": "stdout",
          "output_type": "stream",
          "text": [
            "How are you feeling today? thriller\n"
          ]
        },
        {
          "output_type": "display_data",
          "data": {
            "text/plain": [
              "<IPython.core.display.HTML object>"
            ],
            "text/html": [
              "\n",
              "    <div style=\"font-family: Arial, sans-serif; color: green;\">\n",
              "        <h2>😊 You seem happy! How about enjoying some comedy?</h2>\n",
              "        <p><b>Detected Emotion:</b> Positive (Sentiment Score: 0.10)</p>\n",
              "        <h3>Recommended Movies:</h3>\n",
              "        <div><b>Deadpool & Wolverine</b>: A listless Wade Wilson toils away in civilian life with his days as the morally flexible mercenary, Deadpool, behind him. But when his homeworld faces an existential threat, Wade must reluctantly suit-up again with an even more reluctant Wolverine.<br><b>Borderlands</b>: Returning to her home planet, an infamous bounty hunter forms an unexpected alliance with a team of unlikely heroes. Together, they battle monsters and dangerous bandits to protect a young girl who holds the key to unimaginable power.<br><b>Despicable Me 4</b>: Gru and Lucy and their girls—Margo, Edith and Agnes—welcome a new member to the Gru family, Gru Jr., who is intent on tormenting his dad. Gru also faces a new nemesis in Maxime Le Mal and his femme fatale girlfriend Valentina, forcing the family to go on the run.<br><b>Inside Out 2</b>: Teenager Riley's mind headquarters is undergoing a sudden demolition to make room for something entirely unexpected: new Emotions! Joy, Sadness, Anger, Fear and Disgust, who’ve long been running a successful operation by all accounts, aren’t sure how to feel when Anxiety shows up. And it looks like she’s not alone.<br><b>Beetlejuice Beetlejuice</b>: After a family tragedy, three generations of the Deetz family return home to Winter River. Still haunted by Beetlejuice, Lydia's life is turned upside down when her teenage daughter, Astrid, accidentally opens the portal to the Afterlife.<br><b>Bad Boys: Ride or Die</b>: After their late former Captain is framed, Lowrey and Burnett try to clear his name, only to end up on the run themselves.<br><b>Beetlejuice</b>: A newly dead New England couple seeks help from a deranged demon exorcist to scare an affluent New York family out of their home.<br><b>Saving Bikini Bottom: The Sandy Cheeks Movie</b>: When Bikini Bottom is scooped from the ocean, scientific squirrel Sandy Cheeks and her pal SpongeBob SquarePants saddle up for Texas to save their town.<br><b>The Garfield Movie</b>: Garfield, the world-famous, Monday-hating, lasagna-loving indoor cat, is about to have a wild outdoor adventure! After an unexpected reunion with his long-lost father – scruffy street cat Vic – Garfield and his canine friend Odie are forced from their perfectly pampered life into joining Vic in a hilarious, high-stakes heist.<br><b>The Union</b>: A New Jersey construction worker goes from regular guy to aspiring spy when his long-lost high school sweetheart recruits him for an espionage mission.<br><b>Jackpot!</b>: In the near future, a 'Grand Lottery' has been established - the catch: kill the winner before sundown to legally claim their multi-billion dollar jackpot. When Katie Kim mistakenly finds herself with the winning ticket, she reluctantly joins forces with amateur lottery protection agent Noel Cassidy who must get her to sundown in exchange for a piece of her prize.<br><b>The Smoke Master</b>: The journey of Gabriel and Daniel, two brothers cursed by the Chinese mafia with its feared Three Generations Revenge, who have already reaped the life of their grandfather and their father. To survive, one of the brothers must learn the Smoke Style secrets, a little known Cannabis martial art, taught by a single master, high up in the mountains.<br><b>Harold and the Purple Crayon</b>: Inside of his book, adventurous Harold can make anything come to life simply by drawing it. After he grows up and draws himself off the book's pages and into the physical world, Harold finds he has a lot to learn about real life.<br><b>Descendants: The Rise of Red</b>: After the Queen of Hearts incites a coup on Auradon, her rebellious daughter Red and Cinderella's perfectionist daughter Chloe join forces and travel back in time to try to undo the traumatic event that set Red's mother down her villainous path.<br><b>The Instigators</b>: Rory and Cobby are unlikely partners thrown together for a heist. But when it goes awry, they team up to outrun police, backward bureaucrats, and a vengeful crime boss.<br><b>The Mouse Trap</b>: It's Alex's 21st Birthday, but she's stuck at the amusement arcade on a late shift so her friends decide to surprise her, but a masked killer dressed as Mickey Mouse decides to play a game of his own with them which she must survive.<br><b>The Ministry of Ungentlemanly Warfare</b>: During World War II, the British Army assigns a group of competent soldiers to carry out a mission against the Nazi forces behind enemy lines... A true story about a secret British WWII organization – the Special Operations Executive. Founded by Winston Churchill, their irregular warfare against the Germans helped to change the course of the war, and gave birth to modern black operations.<br><b>Migration</b>: After a migrating duck family alights on their pond with thrilling tales of far-flung places, the Mallard family embarks on a family road trip, from New England, to New York City, to tropical Jamaica.<br><b>Sonic the Hedgehog 3</b>: Sonic, Knuckles, and Tails reunite against a powerful new adversary, Shadow, a mysterious villain with powers unlike anything they have faced before. With their abilities outmatched in every way, Team Sonic must seek out an unlikely alliance in hopes of stopping Shadow and protecting the planet.<br><b>Inside Out</b>: When 11-year-old Riley moves to a new city, her Emotions team up to help her through the transition. Joy, Fear, Anger, Disgust and Sadness work together, but when Joy and Sadness get lost, they must journey through unfamiliar places to get back home.</div>\n",
              "    </div>\n",
              "    "
            ]
          },
          "metadata": {}
        }
      ]
    }
  ]
}